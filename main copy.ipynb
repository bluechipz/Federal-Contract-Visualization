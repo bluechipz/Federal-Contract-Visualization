{
 "cells": [
  {
   "cell_type": "markdown",
   "metadata": {},
   "source": [
    "Import the necessary libraries. Pandas is used to manipulate the data to be able to plot it onto a map using Geopandas and Plotly."
   ]
  },
  {
   "cell_type": "code",
   "execution_count": null,
   "metadata": {},
   "outputs": [],
   "source": [
    "import pandas as pd\n",
    "import geopandas\n",
    "import json\n",
    "import plotly.express as px"
   ]
  },
  {
   "cell_type": "markdown",
   "metadata": {},
   "source": [
    "Contract data may be obtained at the \"Proactive Publication - Contracts over $10,000\" portal located on the open.canada.ca website: https://open.canada.ca/data/en/dataset/d8f85d91-7dec-4fd1-8055-483b77225d8b/resource/fac950c0-00d5-4ec1-a4d3-9cbebf98a305\n",
    "\n",
    "For the purpose of rendering the map, only the \"contract_value\" and \"vendor_postal_code\" attributes are necessary. You may choose to reduce the size of the CSV you retrieve from the portal by only selecting those attributes. Otherwise, you may keep them if you are interested in looking at them.\n",
    "\n",
    "To retrieve government contract data from a specific fiscal year, click \"Add Filter\" on the website and select \"reporting-period.\" From here, you are able to narrow it down to a specific fiscal year, e.g. 2006-2007-Q1, 2006-2007-Q2, and so on."
   ]
  },
  {
   "cell_type": "markdown",
   "metadata": {},
   "source": [
    "Load the CSV file and check the contents."
   ]
  },
  {
   "cell_type": "code",
   "execution_count": null,
   "metadata": {},
   "outputs": [],
   "source": [
    "contracts = pd.read_csv(\"realdata.csv\")"
   ]
  },
  {
   "cell_type": "code",
   "execution_count": null,
   "metadata": {},
   "outputs": [],
   "source": [
    "contracts"
   ]
  },
  {
   "cell_type": "markdown",
   "metadata": {},
   "source": [
    "Next, the data is used to create a dataframe calculating the total dollar value sum of all the contracts awarded to companies based in that postal code. "
   ]
  },
  {
   "cell_type": "code",
   "execution_count": null,
   "metadata": {},
   "outputs": [],
   "source": [
    "total_contract_value = contracts.groupby('vendor_postal_code')['contract_value'].sum()\n",
    "total_contract_value = total_contract_value.to_frame()\n",
    "total_contract_value = total_contract_value.rename_axis('CFSAUID').reset_index()\n",
    "total_contract_value\n"
   ]
  },
  {
   "cell_type": "markdown",
   "metadata": {},
   "source": [
    "Unused \"contract_discrepancy\" dataframe. This is calculated by calcualating the discrepancy between the final total recorded dollar value of the contracts compared to the original total recorded dollar value of the contracts."
   ]
  },
  {
   "cell_type": "code",
   "execution_count": null,
   "metadata": {},
   "outputs": [],
   "source": [
    "contract_discrepancy = contracts.groupby('vendor_postal_code')['contract_value'].sum() - contracts.groupby('vendor_postal_code')['original_value'].sum()\n",
    "contract_discrepancy"
   ]
  },
  {
   "cell_type": "markdown",
   "metadata": {},
   "source": [
    "Read the shape file containing the Postal Code boundaries. We then narrow it down to the most essential parts: The postal code itself, the Province ID code, and the actual geometry/borders."
   ]
  },
  {
   "cell_type": "code",
   "execution_count": null,
   "metadata": {},
   "outputs": [],
   "source": [
    "postal_codes = geopandas.read_file(\"lfsa000b21a_e\\lfsa000b21a_e.shp\")\n",
    "postal_codes = postal_codes[['CFSAUID', 'PRUID', 'geometry']]\n",
    "print(type(postal_codes))"
   ]
  },
  {
   "cell_type": "code",
   "execution_count": null,
   "metadata": {},
   "outputs": [],
   "source": [
    "postal_codes['contract_value'] = pd.Series(dtype=int)\n"
   ]
  },
  {
   "cell_type": "code",
   "execution_count": null,
   "metadata": {},
   "outputs": [],
   "source": [
    "new_pc = postal_codes.merge(total_contract_value, on=\"CFSAUID\")\n",
    "new_pc\n",
    "new_pc = new_pc.drop(\"contract_value_x\", axis=1)\n"
   ]
  },
  {
   "cell_type": "code",
   "execution_count": null,
   "metadata": {},
   "outputs": [],
   "source": [
    "new_pc = new_pc.rename(columns={\"contract_value_y\": \"contract_value\"})\n",
    "new_pc"
   ]
  },
  {
   "cell_type": "code",
   "execution_count": null,
   "metadata": {},
   "outputs": [],
   "source": [
    "bc_pc = new_pc[new_pc.PRUID == \"59\"]\n",
    "bc_pc\n"
   ]
  },
  {
   "cell_type": "markdown",
   "metadata": {},
   "source": [
    "There is probably a more efficient way to do this, but once you have narrowed the dataframe into the province the location you are trying to graph, delete rows of postal codes from the beginning and the end until you have all the postal codes."
   ]
  },
  {
   "cell_type": "code",
   "execution_count": null,
   "metadata": {},
   "outputs": [],
   "source": [
    "# Define the number of rows to delete from the beginning and the end\n",
    "num_to_delete_from_beginning = 97\n",
    "num_to_delete_from_end = 57\n",
    "\n",
    "# Select the rows to keep (excluding the first 'num_to_delete_from_beginning' and last 'num_to_delete_from_end' rows)\n",
    "rows_to_keep = slice(num_to_delete_from_beginning, len(bc_pc) - num_to_delete_from_end)\n",
    "\n",
    "# Create a new dataframe containing the desired rows\n",
    "bc_pc1 = bc_pc.iloc[rows_to_keep]\n",
    "\n",
    "bc_pc1\n"
   ]
  },
  {
   "cell_type": "code",
   "execution_count": null,
   "metadata": {},
   "outputs": [],
   "source": [
    "with open (\"geojsons\\\\vancouverfixedFINAL.geojson\", \"r\") as infile:\n",
    "    vancouver = json.load(infile)"
   ]
  },
  {
   "cell_type": "code",
   "execution_count": null,
   "metadata": {},
   "outputs": [],
   "source": [
    "map = px.choropleth_mapbox(bc_pc1, geojson=vancouver, \n",
    "                           locations=\"CFSAUID\", featureidkey=\"properties.CFSAUID\",color=\"contract_value\", range_color=(bc_pc1['contract_value'].min(), bc_pc1['contract_value'].max()), mapbox_style=\"carto-positron\",\n",
    "                           zoom=7, center = {\"lat\": 49.280000, \"lon\": -123.120405},\n",
    "                           opacity=0.5)\n"
   ]
  },
  {
   "cell_type": "code",
   "execution_count": null,
   "metadata": {},
   "outputs": [],
   "source": [
    "map.show()"
   ]
  },
  {
   "cell_type": "code",
   "execution_count": null,
   "metadata": {},
   "outputs": [],
   "source": [
    "map.write_html(\"vancouver_map.html\")"
   ]
  },
  {
   "cell_type": "markdown",
   "metadata": {},
   "source": [
    "A little unrelated snippet of code that allows you to look at what the largest contracts awarded in that postal code are."
   ]
  },
  {
   "cell_type": "code",
   "execution_count": null,
   "metadata": {},
   "outputs": [],
   "source": [
    "contracts[contracts['vendor_postal_code'] == \"M4Y\"].nlargest(10, \"contract_value\")"
   ]
  }
 ],
 "metadata": {
  "kernelspec": {
   "display_name": ".venv",
   "language": "python",
   "name": "python3"
  },
  "language_info": {
   "codemirror_mode": {
    "name": "ipython",
    "version": 3
   },
   "file_extension": ".py",
   "mimetype": "text/x-python",
   "name": "python",
   "nbconvert_exporter": "python",
   "pygments_lexer": "ipython3",
   "version": "3.12.0"
  }
 },
 "nbformat": 4,
 "nbformat_minor": 2
}
